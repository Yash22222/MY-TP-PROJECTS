{
  "nbformat": 4,
  "nbformat_minor": 0,
  "metadata": {
    "colab": {
      "name": "First_0090.ipynb",
      "provenance": [],
      "collapsed_sections": []
    },
    "kernelspec": {
      "name": "python3",
      "display_name": "Python 3"
    },
    "language_info": {
      "name": "python"
    }
  },
  "cells": [
    {
      "cell_type": "markdown",
      "metadata": {
        "id": "C1nCStGqLHnw"
      },
      "source": [
        "## **BCPM0090-2020-Assignment-20159407**\n",
        "\n",
        "\n",
        "![ucl.png](data:image/png;base64,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)\n",
        "\n",
        "*   Student Number: 20159407\n",
        "*   Module Code: BCPM0090\n",
        "*   Module Title: Big Data and Business Analytics\n",
        "*   Module Leader: Dr Carlos Galera-Zarco\n",
        "\n",
        "\n",
        "---\n",
        "\n",
        "\n",
        "\n",
        "\n",
        "\n",
        "\n"
      ]
    },
    {
      "cell_type": "code",
      "metadata": {
        "id": "-2m0Jv0y_90F"
      },
      "source": [
        "import os\n",
        "import pandas as pd\n",
        "import matplotlib.pyplot as plt\n",
        "import numpy as np\n",
        "import seaborn as sns\n",
        "\n"
      ],
      "execution_count": null,
      "outputs": []
    },
    {
      "cell_type": "code",
      "metadata": {
        "id": "2ndHjiGH_90G"
      },
      "source": [
        "import sklearn\n",
        "from sklearn import metrics\n",
        "from sklearn.neighbors import KNeighborsRegressor\n",
        "\n",
        "from scipy.cluster.vq import kmeans, vq, whiten\n",
        "from scipy.spatial.distance import cdist\n",
        "import numpy as np\n",
        "from datetime import datetime"
      ],
      "execution_count": null,
      "outputs": []
    },
    {
      "cell_type": "markdown",
      "metadata": {
        "id": "IWR7ITYxLIOu"
      },
      "source": [
        "# 1 Problem Statement\n",
        "\n"
      ]
    },
    {
      "cell_type": "markdown",
      "metadata": {
        "id": "0d6S31IwmOC3"
      },
      "source": [
        "## 1.1 Justify the choice of the dataset"
      ]
    },
    {
      "cell_type": "markdown",
      "metadata": {
        "id": "Ma6v_9MGyxFA"
      },
      "source": [
        "###1.1.1 Preliminary exploratory analysis of the selected dataset"
      ]
    },
    {
      "cell_type": "code",
      "metadata": {
        "id": "0XxP-VgvdU-7",
        "colab": {
          "base_uri": "https://localhost:8080/"
        },
        "outputId": "71a0d819-6ff3-4a88-c13f-fdaf51ec6e57"
      },
      "source": [
        "import os\n",
        "import pandas as pd\n",
        "import matplotlib.pyplot as plt\n",
        "import numpy as np\n",
        "import seaborn as sns\n",
        "\n"
      ],
      "execution_count": null,
      "outputs": [
        {
          "output_type": "stream",
          "text": [
            "<class 'pandas.core.frame.DataFrame'>\n",
            "RangeIndex: 129880 entries, 0 to 129879\n",
            "Data columns (total 24 columns):\n",
            " #   Column                             Non-Null Count   Dtype  \n",
            "---  ------                             --------------   -----  \n",
            " 0   Unnamed: 0                         129880 non-null  int64  \n",
            " 1   Gender                             129880 non-null  object \n",
            " 2   customer_type                      129880 non-null  object \n",
            " 3   age                                129880 non-null  int64  \n",
            " 4   type_of_travel                     129880 non-null  object \n",
            " 5   customer_class                     129880 non-null  object \n",
            " 6   flight_distance                    129880 non-null  int64  \n",
            " 7   inflight_wifi_service              129880 non-null  int64  \n",
            " 8   departure_arrival_time_convenient  129880 non-null  int64  \n",
            " 9   ease_of_online_booking             129880 non-null  int64  \n",
            " 10  gate_location                      129880 non-null  int64  \n",
            " 11  food_and_drink                     129880 non-null  int64  \n",
            " 12  online_boarding                    129880 non-null  int64  \n",
            " 13  seat_comfort                       129880 non-null  int64  \n",
            " 14  inflight_entertainment             129880 non-null  int64  \n",
            " 15  onboard_service                    129880 non-null  int64  \n",
            " 16  leg_room_service                   129880 non-null  int64  \n",
            " 17  baggage_handling                   129880 non-null  int64  \n",
            " 18  checkin_service                    129880 non-null  int64  \n",
            " 19  inflight_service                   129880 non-null  int64  \n",
            " 20  cleanliness                        129880 non-null  int64  \n",
            " 21  departure_delay_in_minutes         129880 non-null  int64  \n",
            " 22  arrival_delay_in_minutes           129487 non-null  float64\n",
            " 23  satisfaction                       129880 non-null  object \n",
            "dtypes: float64(1), int64(18), object(5)\n",
            "memory usage: 23.8+ MB\n"
          ],
          "name": "stdout"
        }
      ]
    },
    {
      "cell_type": "markdown",
      "metadata": {
        "id": "WyuXa6MsCAFo"
      },
      "source": [
        "Based on the above information, the justification of the selected dataset is developed as below."
      ]
    },
    {
      "cell_type": "markdown",
      "metadata": {
        "id": "kf4rwDqL6oAl"
      },
      "source": [
        "###1.1.2 State the rationale for selecting the dataset"
      ]
    },
    {
      "cell_type": "markdown",
      "metadata": {
        "id": "h7KAIDdj8QXW"
      },
      "source": [
        "The dataset I selected is the first one about the satisfaction of the customer with Airline services. Comparing with the other two datasets, it has a total of 24 columns and 3116750 rows, which contains more information. Therefore, the first dataset is more suitable for using machine learning models to conduct analysis due to its largest volume of data. Moreover, the 24th column -\"Satisfaction\"- can naturally be used as the label of our model. \n",
        "\n",
        "The second dataset about the movies is too small, with only 593 training data, which is obviously not suitable for using machine learning models. \n",
        "\n",
        "As for the third dataset has fewer columns than the first one, so there will be fewer variables to analyse. nd there is no particularly obvious regression goal or classification goal.\n",
        "\n"
      ]
    },
    {
      "cell_type": "markdown",
      "metadata": {
        "id": "VZ8_TCjDnZLA"
      },
      "source": [
        "## 1.2 Define the research problem "
      ]
    },
    {
      "cell_type": "markdown",
      "metadata": {
        "id": "2IhsYOoCe2Wa"
      },
      "source": [
        "Based on the existing data, we could predict and analyse customer satisfaction by using machine learning modelling from the perspective of customer age, flight distance and cabin difference. After that, visualisation is performed to finally establishing a high-quality customer satisfaction prediction model. This analysis is conducted to explore the key factors influencing customer satisfaction and to provide the practical reference to develop a sustainable strategy in the airline industry.\n",
        "\n",
        "The research problem could be defined as follows:\n",
        "\n",
        "Research Question: What are the key factors that affect customer satisfaction with the Airline serivces?"
      ]
    },
    {
      "cell_type": "markdown",
      "metadata": {
        "id": "R0tHfHFbnj5E"
      },
      "source": [
        "##1.3 Explain the characteristics of the dataset"
      ]
    },
    {
      "cell_type": "code",
      "metadata": {
        "colab": {
          "base_uri": "https://localhost:8080/",
          "height": 326
        },
        "id": "tNpx7xKNAdxr",
        "outputId": "3b8c8551-b8ba-4b93-948d-3007ee54d531"
      },
      "source": [
        "df = pd.read_csv('/content/Exam1_Airline.csv')\n",
        "df.head()"
      ],
      "execution_count": null,
      "outputs": [
        {
          "output_type": "execute_result",
          "data": {
            "text/html": [
              "<div>\n",
              "<style scoped>\n",
              "    .dataframe tbody tr th:only-of-type {\n",
              "        vertical-align: middle;\n",
              "    }\n",
              "\n",
              "    .dataframe tbody tr th {\n",
              "        vertical-align: top;\n",
              "    }\n",
              "\n",
              "    .dataframe thead th {\n",
              "        text-align: right;\n",
              "    }\n",
              "</style>\n",
              "<table border=\"1\" class=\"dataframe\">\n",
              "  <thead>\n",
              "    <tr style=\"text-align: right;\">\n",
              "      <th></th>\n",
              "      <th>Unnamed: 0</th>\n",
              "      <th>Gender</th>\n",
              "      <th>customer_type</th>\n",
              "      <th>age</th>\n",
              "      <th>type_of_travel</th>\n",
              "      <th>customer_class</th>\n",
              "      <th>flight_distance</th>\n",
              "      <th>inflight_wifi_service</th>\n",
              "      <th>departure_arrival_time_convenient</th>\n",
              "      <th>ease_of_online_booking</th>\n",
              "      <th>gate_location</th>\n",
              "      <th>food_and_drink</th>\n",
              "      <th>online_boarding</th>\n",
              "      <th>seat_comfort</th>\n",
              "      <th>inflight_entertainment</th>\n",
              "      <th>onboard_service</th>\n",
              "      <th>leg_room_service</th>\n",
              "      <th>baggage_handling</th>\n",
              "      <th>checkin_service</th>\n",
              "      <th>inflight_service</th>\n",
              "      <th>cleanliness</th>\n",
              "      <th>departure_delay_in_minutes</th>\n",
              "      <th>arrival_delay_in_minutes</th>\n",
              "      <th>satisfaction</th>\n",
              "    </tr>\n",
              "  </thead>\n",
              "  <tbody>\n",
              "    <tr>\n",
              "      <th>0</th>\n",
              "      <td>0</td>\n",
              "      <td>Male</td>\n",
              "      <td>Loyal Customer</td>\n",
              "      <td>13</td>\n",
              "      <td>Personal Travel</td>\n",
              "      <td>Eco Plus</td>\n",
              "      <td>460</td>\n",
              "      <td>3</td>\n",
              "      <td>4</td>\n",
              "      <td>3</td>\n",
              "      <td>1</td>\n",
              "      <td>5</td>\n",
              "      <td>3</td>\n",
              "      <td>5</td>\n",
              "      <td>5</td>\n",
              "      <td>4</td>\n",
              "      <td>3</td>\n",
              "      <td>4</td>\n",
              "      <td>4</td>\n",
              "      <td>5</td>\n",
              "      <td>5</td>\n",
              "      <td>25</td>\n",
              "      <td>18.0</td>\n",
              "      <td>neutral or dissatisfied</td>\n",
              "    </tr>\n",
              "    <tr>\n",
              "      <th>1</th>\n",
              "      <td>1</td>\n",
              "      <td>Male</td>\n",
              "      <td>disloyal Customer</td>\n",
              "      <td>25</td>\n",
              "      <td>Business travel</td>\n",
              "      <td>Business</td>\n",
              "      <td>235</td>\n",
              "      <td>3</td>\n",
              "      <td>2</td>\n",
              "      <td>3</td>\n",
              "      <td>3</td>\n",
              "      <td>1</td>\n",
              "      <td>3</td>\n",
              "      <td>1</td>\n",
              "      <td>1</td>\n",
              "      <td>1</td>\n",
              "      <td>5</td>\n",
              "      <td>3</td>\n",
              "      <td>1</td>\n",
              "      <td>4</td>\n",
              "      <td>1</td>\n",
              "      <td>1</td>\n",
              "      <td>6.0</td>\n",
              "      <td>neutral or dissatisfied</td>\n",
              "    </tr>\n",
              "    <tr>\n",
              "      <th>2</th>\n",
              "      <td>2</td>\n",
              "      <td>Female</td>\n",
              "      <td>Loyal Customer</td>\n",
              "      <td>26</td>\n",
              "      <td>Business travel</td>\n",
              "      <td>Business</td>\n",
              "      <td>1142</td>\n",
              "      <td>2</td>\n",
              "      <td>2</td>\n",
              "      <td>2</td>\n",
              "      <td>2</td>\n",
              "      <td>5</td>\n",
              "      <td>5</td>\n",
              "      <td>5</td>\n",
              "      <td>5</td>\n",
              "      <td>4</td>\n",
              "      <td>3</td>\n",
              "      <td>4</td>\n",
              "      <td>4</td>\n",
              "      <td>4</td>\n",
              "      <td>5</td>\n",
              "      <td>0</td>\n",
              "      <td>0.0</td>\n",
              "      <td>satisfied</td>\n",
              "    </tr>\n",
              "    <tr>\n",
              "      <th>3</th>\n",
              "      <td>3</td>\n",
              "      <td>Female</td>\n",
              "      <td>Loyal Customer</td>\n",
              "      <td>25</td>\n",
              "      <td>Business travel</td>\n",
              "      <td>Business</td>\n",
              "      <td>562</td>\n",
              "      <td>2</td>\n",
              "      <td>5</td>\n",
              "      <td>5</td>\n",
              "      <td>5</td>\n",
              "      <td>2</td>\n",
              "      <td>2</td>\n",
              "      <td>2</td>\n",
              "      <td>2</td>\n",
              "      <td>2</td>\n",
              "      <td>5</td>\n",
              "      <td>3</td>\n",
              "      <td>1</td>\n",
              "      <td>4</td>\n",
              "      <td>2</td>\n",
              "      <td>11</td>\n",
              "      <td>9.0</td>\n",
              "      <td>neutral or dissatisfied</td>\n",
              "    </tr>\n",
              "    <tr>\n",
              "      <th>4</th>\n",
              "      <td>4</td>\n",
              "      <td>Male</td>\n",
              "      <td>Loyal Customer</td>\n",
              "      <td>61</td>\n",
              "      <td>Business travel</td>\n",
              "      <td>Business</td>\n",
              "      <td>214</td>\n",
              "      <td>3</td>\n",
              "      <td>3</td>\n",
              "      <td>3</td>\n",
              "      <td>3</td>\n",
              "      <td>4</td>\n",
              "      <td>5</td>\n",
              "      <td>5</td>\n",
              "      <td>3</td>\n",
              "      <td>3</td>\n",
              "      <td>4</td>\n",
              "      <td>4</td>\n",
              "      <td>3</td>\n",
              "      <td>3</td>\n",
              "      <td>3</td>\n",
              "      <td>0</td>\n",
              "      <td>0.0</td>\n",
              "      <td>satisfied</td>\n",
              "    </tr>\n",
              "  </tbody>\n",
              "</table>\n",
              "</div>"
            ],
            "text/plain": [
              "   Unnamed: 0  Gender  ... arrival_delay_in_minutes             satisfaction\n",
              "0           0    Male  ...                     18.0  neutral or dissatisfied\n",
              "1           1    Male  ...                      6.0  neutral or dissatisfied\n",
              "2           2  Female  ...                      0.0                satisfied\n",
              "3           3  Female  ...                      9.0  neutral or dissatisfied\n",
              "4           4    Male  ...                      0.0                satisfied\n",
              "\n",
              "[5 rows x 24 columns]"
            ]
          },
          "metadata": {
            "tags": []
          },
          "execution_count": 13
        }
      ]
    },
    {
      "cell_type": "code",
      "metadata": {
        "colab": {
          "base_uri": "https://localhost:8080/"
        },
        "id": "dEbLFym1Adxz",
        "outputId": "b7e03109-af56-4b66-9c43-6b0ff4f0a8d9"
      },
      "source": [
        "df.info()"
      ],
      "execution_count": null,
      "outputs": [
        {
          "output_type": "stream",
          "text": [
            "<class 'pandas.core.frame.DataFrame'>\n",
            "RangeIndex: 129880 entries, 0 to 129879\n",
            "Data columns (total 24 columns):\n",
            " #   Column                             Non-Null Count   Dtype  \n",
            "---  ------                             --------------   -----  \n",
            " 0   Unnamed: 0                         129880 non-null  int64  \n",
            " 1   Gender                             129880 non-null  object \n",
            " 2   customer_type                      129880 non-null  object \n",
            " 3   age                                129880 non-null  int64  \n",
            " 4   type_of_travel                     129880 non-null  object \n",
            " 5   customer_class                     129880 non-null  object \n",
            " 6   flight_distance                    129880 non-null  int64  \n",
            " 7   inflight_wifi_service              129880 non-null  int64  \n",
            " 8   departure_arrival_time_convenient  129880 non-null  int64  \n",
            " 9   ease_of_online_booking             129880 non-null  int64  \n",
            " 10  gate_location                      129880 non-null  int64  \n",
            " 11  food_and_drink                     129880 non-null  int64  \n",
            " 12  online_boarding                    129880 non-null  int64  \n",
            " 13  seat_comfort                       129880 non-null  int64  \n",
            " 14  inflight_entertainment             129880 non-null  int64  \n",
            " 15  onboard_service                    129880 non-null  int64  \n",
            " 16  leg_room_service                   129880 non-null  int64  \n",
            " 17  baggage_handling                   129880 non-null  int64  \n",
            " 18  checkin_service                    129880 non-null  int64  \n",
            " 19  inflight_service                   129880 non-null  int64  \n",
            " 20  cleanliness                        129880 non-null  int64  \n",
            " 21  departure_delay_in_minutes         129880 non-null  int64  \n",
            " 22  arrival_delay_in_minutes           129487 non-null  float64\n",
            " 23  satisfaction                       129880 non-null  object \n",
            "dtypes: float64(1), int64(18), object(5)\n",
            "memory usage: 23.8+ MB\n"
          ],
          "name": "stdout"
        }
      ]
    },
    {
      "cell_type": "code",
      "metadata": {
        "colab": {
          "base_uri": "https://localhost:8080/"
        },
        "id": "YSMtnO6RAdx0",
        "outputId": "6d8d16b2-c28f-4b0c-9b3a-5aceaf393bca"
      },
      "source": [
        "df[\"satisfaction\"].value_counts()"
      ],
      "execution_count": null,
      "outputs": [
        {
          "output_type": "execute_result",
          "data": {
            "text/plain": [
              "neutral or dissatisfied    73452\n",
              "satisfied                  56428\n",
              "Name: satisfaction, dtype: int64"
            ]
          },
          "metadata": {
            "tags": []
          },
          "execution_count": 15
        }
      ]
    },
    {
      "cell_type": "code",
      "metadata": {
        "colab": {
          "base_uri": "https://localhost:8080/"
        },
        "id": "-RzxLzvEAdx0",
        "outputId": "a5f544b4-137c-4125-973c-98b55212bd77"
      },
      "source": [
        "print(\"satisfaction rate:\",56428/129880*100,\"%\")\n",
        "print(\"no satisfaction rate:\",73452/129880*100,\"%\")"
      ],
      "execution_count": null,
      "outputs": [
        {
          "output_type": "stream",
          "text": [
            "satisfaction rate: 43.44625808438558 %\n",
            "no satisfaction rate: 56.55374191561441 %\n"
          ],
          "name": "stdout"
        }
      ]
    },
    {
      "cell_type": "code",
      "metadata": {
        "colab": {
          "base_uri": "https://localhost:8080/"
        },
        "id": "UPIKKGK0Adx0",
        "outputId": "e11becae-d57b-4b56-f1f4-a772b684cd9b"
      },
      "source": [
        "list(df.columns)"
      ],
      "execution_count": null,
      "outputs": [
        {
          "output_type": "execute_result",
          "data": {
            "text/plain": [
              "['Unnamed: 0',\n",
              " 'Gender',\n",
              " 'customer_type',\n",
              " 'age',\n",
              " 'type_of_travel',\n",
              " 'customer_class',\n",
              " 'flight_distance',\n",
              " 'inflight_wifi_service',\n",
              " 'departure_arrival_time_convenient',\n",
              " 'ease_of_online_booking',\n",
              " 'gate_location',\n",
              " 'food_and_drink',\n",
              " 'online_boarding',\n",
              " 'seat_comfort',\n",
              " 'inflight_entertainment',\n",
              " 'onboard_service',\n",
              " 'leg_room_service',\n",
              " 'baggage_handling',\n",
              " 'checkin_service',\n",
              " 'inflight_service',\n",
              " 'cleanliness',\n",
              " 'departure_delay_in_minutes',\n",
              " 'arrival_delay_in_minutes',\n",
              " 'satisfaction']"
            ]
          },
          "metadata": {
            "tags": []
          },
          "execution_count": 17
        }
      ]
    },
    {
      "cell_type": "code",
      "metadata": {
        "colab": {
          "base_uri": "https://localhost:8080/"
        },
        "id": "HtLkJZUrAdx0",
        "outputId": "8acadf7f-754c-4e87-e5c4-7bd446dc850d"
      },
      "source": [
        "t = pd.crosstab(index=df['satisfaction'], columns=df['age'],margins=True)\n",
        "print(t)"
      ],
      "execution_count": null,
      "outputs": [
        {
          "output_type": "stream",
          "text": [
            "age                        7    8    9   10   11  ...  78  79   80  85     All\n",
            "satisfaction                                      ...                         \n",
            "neutral or dissatisfied  620  716  734  711  707  ...  30  38   79  19   73452\n",
            "satisfied                 65   81  125  111  130  ...  14  14   31   6   56428\n",
            "All                      685  797  859  822  837  ...  44  52  110  25  129880\n",
            "\n",
            "[3 rows x 76 columns]\n"
          ],
          "name": "stdout"
        }
      ]
    },
    {
      "cell_type": "code",
      "metadata": {
        "colab": {
          "base_uri": "https://localhost:8080/"
        },
        "id": "VmPeTK_FAdx1",
        "outputId": "2329e665-4491-4dbd-a871-336117904545"
      },
      "source": [
        "t = pd.crosstab(index=df['satisfaction'], columns=df['customer_class'],margins=True)\n",
        "print(t)\n",
        "print(\"satisfaction rate of Business class:\",43166/62160*100,\"%\")"
      ],
      "execution_count": null,
      "outputs": [
        {
          "output_type": "stream",
          "text": [
            "customer_class           Business    Eco  Eco Plus     All\n",
            "satisfaction                                              \n",
            "neutral or dissatisfied     18994  47366      7092   73452\n",
            "satisfied                   43166  10943      2319   56428\n",
            "All                         62160  58309      9411  129880\n",
            "satisfaction rate of Business class: 69.44337194337194 %\n"
          ],
          "name": "stdout"
        }
      ]
    },
    {
      "cell_type": "code",
      "metadata": {
        "colab": {
          "base_uri": "https://localhost:8080/"
        },
        "id": "A-Z66xyvAdx1",
        "outputId": "29747b84-2624-4e07-b80c-b578df3ef89b"
      },
      "source": [
        "t = pd.crosstab(index=df['satisfaction'], columns=df['seat_comfort'],margins=True)\n",
        "print(t)"
      ],
      "execution_count": null,
      "outputs": [
        {
          "output_type": "stream",
          "text": [
            "seat_comfort             0      1      2      3      4      5     All\n",
            "satisfaction                                                         \n",
            "neutral or dissatisfied  1  11734  14341  18334  17481  11561   73452\n",
            "satisfied                0   3374   4188   4994  22275  21597   56428\n",
            "All                      1  15108  18529  23328  39756  33158  129880\n"
          ],
          "name": "stdout"
        }
      ]
    },
    {
      "cell_type": "code",
      "metadata": {
        "colab": {
          "base_uri": "https://localhost:8080/"
        },
        "id": "33CYuBKKAdx1",
        "outputId": "5a1e969e-3482-42bb-b314-9eb5248db57a"
      },
      "source": [
        "t = pd.crosstab(index=df['satisfaction'], columns=df['inflight_wifi_service'],margins=True)\n",
        "print(t)"
      ],
      "execution_count": null,
      "outputs": [
        {
          "output_type": "stream",
          "text": [
            "inflight_wifi_service       0      1      2      3      4      5     All\n",
            "satisfaction                                                            \n",
            "neutral or dissatisfied    10  15000  24330  24080   9891    141   73452\n",
            "satisfied                3906   7328   7990   8105  14884  14215   56428\n",
            "All                      3916  22328  32320  32185  24775  14356  129880\n"
          ],
          "name": "stdout"
        }
      ]
    },
    {
      "cell_type": "markdown",
      "metadata": {
        "id": "v-JXH1eFoG3g"
      },
      "source": [
        "### 1.3.1 Data type\n"
      ]
    },
    {
      "cell_type": "markdown",
      "metadata": {
        "id": "-7JtnP_I6Y60"
      },
      "source": [
        "The dataset is a .csv file, which can be displayed in a table form, so it is structured data."
      ]
    },
    {
      "cell_type": "markdown",
      "metadata": {
        "id": "zCePGvSG_17z"
      },
      "source": [
        "###1.3.2 Variables"
      ]
    },
    {
      "cell_type": "markdown",
      "metadata": {
        "id": "jCdSqnedEfjN"
      },
      "source": [
        "There are a24 columns of data in total,  each with 129,880 entries. For example, The variable -\"flight_distance\"- is an integer, and the variable -\"arrival_delay_in_minutes\"- is a float type. \n",
        "\n",
        "Variables such as \"gender\" and ‘’type_of_travel\" are not numerical variables, so they need to be converted into numeric variables later for modelling analysis."
      ]
    },
    {
      "cell_type": "markdown",
      "metadata": {
        "id": "aXT3ochy_17z"
      },
      "source": [
        "###1.3.3 Initial potential"
      ]
    },
    {
      "cell_type": "markdown",
      "metadata": {
        "id": "l5crVXyL_17z"
      },
      "source": [
        "First,I count the satisfaction rate and dissatisfaction rate of all passengers. As you can see, the satisfaction rate is 43.44625808438558% which is slightly less than the no satisfaction rate of 56.55374191561441%.\n",
        "\n",
        "By the way of statistics, I can see the different types of age, customer_class, seat_comfortm, and inflight_wifi_service, the number of satisfied customers and the number of dissatisfied customers. I find that the probability of female customers being dissatisfied is basically the same as the probability of male customers being dissatisfied with customers of different ages. Therefore age and gender may be not potential data.\n",
        "\n",
        "For different types of customer_class, obviously have a greater impact on customer satisfaction.Among them, the customer satisfaction rate of Busines is as high as 69.4%, which is higher than the satisfaction rate of all passengers. Therefore, the variable customer_class also has potential.\n",
        "\n",
        "For seat_comfortm, we can find that increasing from 0 to 5, customer satisfaction is on the rise.\n",
        "\n",
        "For inflight_wifi_service, we can find that increasing from 1 to 5, customer satisfaction is on the rise. But when inflight_wifi_service=0, the satisfaction is very high, which is a more abnormal phenomenon. Presumably, 0 means that the customer does not use wifi.\n",
        "\n",
        "The last column of data satisfaction is obviously also very potential, because this column of data is what we ultimately want to explore. "
      ]
    },
    {
      "cell_type": "markdown",
      "metadata": {
        "id": "sXEq7M_9_17z"
      },
      "source": [
        "##1.4 Process of cleaning and tidying the database"
      ]
    },
    {
      "cell_type": "code",
      "metadata": {
        "colab": {
          "base_uri": "https://localhost:8080/"
        },
        "id": "FRdwLzZWotzA",
        "outputId": "9dcae9c5-3833-4e11-d4ec-e84c08e9c68c"
      },
      "source": [
        "df.isnull().sum(axis=0)"
      ],
      "execution_count": null,
      "outputs": [
        {
          "output_type": "execute_result",
          "data": {
            "text/plain": [
              "Unnamed: 0                             0\n",
              "Gender                                 0\n",
              "customer_type                          0\n",
              "age                                    0\n",
              "type_of_travel                         0\n",
              "customer_class                         0\n",
              "flight_distance                        0\n",
              "inflight_wifi_service                  0\n",
              "departure_arrival_time_convenient      0\n",
              "ease_of_online_booking                 0\n",
              "gate_location                          0\n",
              "food_and_drink                         0\n",
              "online_boarding                        0\n",
              "seat_comfort                           0\n",
              "inflight_entertainment                 0\n",
              "onboard_service                        0\n",
              "leg_room_service                       0\n",
              "baggage_handling                       0\n",
              "checkin_service                        0\n",
              "inflight_service                       0\n",
              "cleanliness                            0\n",
              "departure_delay_in_minutes             0\n",
              "arrival_delay_in_minutes             393\n",
              "satisfaction                           0\n",
              "dtype: int64"
            ]
          },
          "metadata": {
            "tags": []
          },
          "execution_count": 22
        }
      ]
    },
    {
      "cell_type": "markdown",
      "metadata": {
        "id": "-nmz9Bf0o99g"
      },
      "source": [
        "I will check if there are missing values in the respective segments. If so, we need to fill in the missing fields."
      ]
    },
    {
      "cell_type": "code",
      "metadata": {
        "colab": {
          "base_uri": "https://localhost:8080/"
        },
        "id": "LEr7usP4pFPm",
        "outputId": "25f9ea0d-4329-4853-fb8b-7117eb8c4878"
      },
      "source": [
        "df.dropna(inplace=True,how='any')\n",
        "df.info()"
      ],
      "execution_count": null,
      "outputs": [
        {
          "output_type": "stream",
          "text": [
            "<class 'pandas.core.frame.DataFrame'>\n",
            "Int64Index: 129487 entries, 0 to 129879\n",
            "Data columns (total 24 columns):\n",
            " #   Column                             Non-Null Count   Dtype  \n",
            "---  ------                             --------------   -----  \n",
            " 0   Unnamed: 0                         129487 non-null  int64  \n",
            " 1   Gender                             129487 non-null  object \n",
            " 2   customer_type                      129487 non-null  object \n",
            " 3   age                                129487 non-null  int64  \n",
            " 4   type_of_travel                     129487 non-null  object \n",
            " 5   customer_class                     129487 non-null  object \n",
            " 6   flight_distance                    129487 non-null  int64  \n",
            " 7   inflight_wifi_service              129487 non-null  int64  \n",
            " 8   departure_arrival_time_convenient  129487 non-null  int64  \n",
            " 9   ease_of_online_booking             129487 non-null  int64  \n",
            " 10  gate_location                      129487 non-null  int64  \n",
            " 11  food_and_drink                     129487 non-null  int64  \n",
            " 12  online_boarding                    129487 non-null  int64  \n",
            " 13  seat_comfort                       129487 non-null  int64  \n",
            " 14  inflight_entertainment             129487 non-null  int64  \n",
            " 15  onboard_service                    129487 non-null  int64  \n",
            " 16  leg_room_service                   129487 non-null  int64  \n",
            " 17  baggage_handling                   129487 non-null  int64  \n",
            " 18  checkin_service                    129487 non-null  int64  \n",
            " 19  inflight_service                   129487 non-null  int64  \n",
            " 20  cleanliness                        129487 non-null  int64  \n",
            " 21  departure_delay_in_minutes         129487 non-null  int64  \n",
            " 22  arrival_delay_in_minutes           129487 non-null  float64\n",
            " 23  satisfaction                       129487 non-null  object \n",
            "dtypes: float64(1), int64(18), object(5)\n",
            "memory usage: 24.7+ MB\n"
          ],
          "name": "stdout"
        }
      ]
    },
    {
      "cell_type": "markdown",
      "metadata": {
        "id": "MBSSg5CAp4EH"
      },
      "source": [
        "Since 393 pieces of data are missing in the arrival_delay_in_minutes column, we choose to delete these data. The amount of deleted data is smaller than the original amount, so it is still feasible to use the deleted data."
      ]
    },
    {
      "cell_type": "code",
      "metadata": {
        "colab": {
          "base_uri": "https://localhost:8080/"
        },
        "id": "Oy3zLCtUqVMu",
        "outputId": "0b906c03-d60c-4abc-f5a0-873cb4bd7413"
      },
      "source": [
        "feature_columns = ['Gender','customer_type','age','type_of_travel','customer_class','flight_distance','inflight_wifi_service','departure_arrival_time_convenient','ease_of_online_booking','gate_location',\n",
        "                'food_and_drink','online_boarding','seat_comfort','inflight_entertainment','onboard_service','leg_room_service','baggage_handling','checkin_service','inflight_service','cleanliness','departure_delay_in_minutes','arrival_delay_in_minutes']\n",
        "features = df[feature_columns]\n",
        "features.info()"
      ],
      "execution_count": null,
      "outputs": [
        {
          "output_type": "stream",
          "text": [
            "<class 'pandas.core.frame.DataFrame'>\n",
            "Int64Index: 129487 entries, 0 to 129879\n",
            "Data columns (total 22 columns):\n",
            " #   Column                             Non-Null Count   Dtype  \n",
            "---  ------                             --------------   -----  \n",
            " 0   Gender                             129487 non-null  object \n",
            " 1   customer_type                      129487 non-null  object \n",
            " 2   age                                129487 non-null  int64  \n",
            " 3   type_of_travel                     129487 non-null  object \n",
            " 4   customer_class                     129487 non-null  object \n",
            " 5   flight_distance                    129487 non-null  int64  \n",
            " 6   inflight_wifi_service              129487 non-null  int64  \n",
            " 7   departure_arrival_time_convenient  129487 non-null  int64  \n",
            " 8   ease_of_online_booking             129487 non-null  int64  \n",
            " 9   gate_location                      129487 non-null  int64  \n",
            " 10  food_and_drink                     129487 non-null  int64  \n",
            " 11  online_boarding                    129487 non-null  int64  \n",
            " 12  seat_comfort                       129487 non-null  int64  \n",
            " 13  inflight_entertainment             129487 non-null  int64  \n",
            " 14  onboard_service                    129487 non-null  int64  \n",
            " 15  leg_room_service                   129487 non-null  int64  \n",
            " 16  baggage_handling                   129487 non-null  int64  \n",
            " 17  checkin_service                    129487 non-null  int64  \n",
            " 18  inflight_service                   129487 non-null  int64  \n",
            " 19  cleanliness                        129487 non-null  int64  \n",
            " 20  departure_delay_in_minutes         129487 non-null  int64  \n",
            " 21  arrival_delay_in_minutes           129487 non-null  float64\n",
            "dtypes: float64(1), int64(17), object(4)\n",
            "memory usage: 22.7+ MB\n"
          ],
          "name": "stdout"
        }
      ]
    },
    {
      "cell_type": "markdown",
      "metadata": {
        "id": "uwlXbMJUtIvg"
      },
      "source": [
        "I discarded the first column when selecting features. The first column is only used as a number, which is only a number for customers and has no practical meaning. Therefore, the number in the first column needs to be discarded and not used as a feature. The number of feature columns is 22."
      ]
    },
    {
      "cell_type": "code",
      "metadata": {
        "colab": {
          "base_uri": "https://localhost:8080/"
        },
        "id": "PBN8Fd_GqVvD",
        "outputId": "5a31f5c6-5ded-462a-c622-3d3265168bfa"
      },
      "source": [
        "target = df['satisfaction']\n",
        "target.head()"
      ],
      "execution_count": null,
      "outputs": [
        {
          "output_type": "execute_result",
          "data": {
            "text/plain": [
              "0    neutral or dissatisfied\n",
              "1    neutral or dissatisfied\n",
              "2                  satisfied\n",
              "3    neutral or dissatisfied\n",
              "4                  satisfied\n",
              "Name: satisfaction, dtype: object"
            ]
          },
          "metadata": {
            "tags": []
          },
          "execution_count": 25
        }
      ]
    },
    {
      "cell_type": "code",
      "metadata": {
        "colab": {
          "base_uri": "https://localhost:8080/",
          "height": 241
        },
        "id": "UWafjOduqWoN",
        "outputId": "ae98cd58-7c71-4eb0-d94b-272d7c92b64b"
      },
      "source": [
        "features_withdummies = pd.get_dummies(features)\n",
        "features_withdummies.head()"
      ],
      "execution_count": null,
      "outputs": [
        {
          "output_type": "execute_result",
          "data": {
            "text/html": [
              "<div>\n",
              "<style scoped>\n",
              "    .dataframe tbody tr th:only-of-type {\n",
              "        vertical-align: middle;\n",
              "    }\n",
              "\n",
              "    .dataframe tbody tr th {\n",
              "        vertical-align: top;\n",
              "    }\n",
              "\n",
              "    .dataframe thead th {\n",
              "        text-align: right;\n",
              "    }\n",
              "</style>\n",
              "<table border=\"1\" class=\"dataframe\">\n",
              "  <thead>\n",
              "    <tr style=\"text-align: right;\">\n",
              "      <th></th>\n",
              "      <th>age</th>\n",
              "      <th>flight_distance</th>\n",
              "      <th>inflight_wifi_service</th>\n",
              "      <th>departure_arrival_time_convenient</th>\n",
              "      <th>ease_of_online_booking</th>\n",
              "      <th>gate_location</th>\n",
              "      <th>food_and_drink</th>\n",
              "      <th>online_boarding</th>\n",
              "      <th>seat_comfort</th>\n",
              "      <th>inflight_entertainment</th>\n",
              "      <th>onboard_service</th>\n",
              "      <th>leg_room_service</th>\n",
              "      <th>baggage_handling</th>\n",
              "      <th>checkin_service</th>\n",
              "      <th>inflight_service</th>\n",
              "      <th>cleanliness</th>\n",
              "      <th>departure_delay_in_minutes</th>\n",
              "      <th>arrival_delay_in_minutes</th>\n",
              "      <th>Gender_Female</th>\n",
              "      <th>Gender_Male</th>\n",
              "      <th>customer_type_Loyal Customer</th>\n",
              "      <th>customer_type_disloyal Customer</th>\n",
              "      <th>type_of_travel_Business travel</th>\n",
              "      <th>type_of_travel_Personal Travel</th>\n",
              "      <th>customer_class_Business</th>\n",
              "      <th>customer_class_Eco</th>\n",
              "      <th>customer_class_Eco Plus</th>\n",
              "    </tr>\n",
              "  </thead>\n",
              "  <tbody>\n",
              "    <tr>\n",
              "      <th>0</th>\n",
              "      <td>13</td>\n",
              "      <td>460</td>\n",
              "      <td>3</td>\n",
              "      <td>4</td>\n",
              "      <td>3</td>\n",
              "      <td>1</td>\n",
              "      <td>5</td>\n",
              "      <td>3</td>\n",
              "      <td>5</td>\n",
              "      <td>5</td>\n",
              "      <td>4</td>\n",
              "      <td>3</td>\n",
              "      <td>4</td>\n",
              "      <td>4</td>\n",
              "      <td>5</td>\n",
              "      <td>5</td>\n",
              "      <td>25</td>\n",
              "      <td>18.0</td>\n",
              "      <td>0</td>\n",
              "      <td>1</td>\n",
              "      <td>1</td>\n",
              "      <td>0</td>\n",
              "      <td>0</td>\n",
              "      <td>1</td>\n",
              "      <td>0</td>\n",
              "      <td>0</td>\n",
              "      <td>1</td>\n",
              "    </tr>\n",
              "    <tr>\n",
              "      <th>1</th>\n",
              "      <td>25</td>\n",
              "      <td>235</td>\n",
              "      <td>3</td>\n",
              "      <td>2</td>\n",
              "      <td>3</td>\n",
              "      <td>3</td>\n",
              "      <td>1</td>\n",
              "      <td>3</td>\n",
              "      <td>1</td>\n",
              "      <td>1</td>\n",
              "      <td>1</td>\n",
              "      <td>5</td>\n",
              "      <td>3</td>\n",
              "      <td>1</td>\n",
              "      <td>4</td>\n",
              "      <td>1</td>\n",
              "      <td>1</td>\n",
              "      <td>6.0</td>\n",
              "      <td>0</td>\n",
              "      <td>1</td>\n",
              "      <td>0</td>\n",
              "      <td>1</td>\n",
              "      <td>1</td>\n",
              "      <td>0</td>\n",
              "      <td>1</td>\n",
              "      <td>0</td>\n",
              "      <td>0</td>\n",
              "    </tr>\n",
              "    <tr>\n",
              "      <th>2</th>\n",
              "      <td>26</td>\n",
              "      <td>1142</td>\n",
              "      <td>2</td>\n",
              "      <td>2</td>\n",
              "      <td>2</td>\n",
              "      <td>2</td>\n",
              "      <td>5</td>\n",
              "      <td>5</td>\n",
              "      <td>5</td>\n",
              "      <td>5</td>\n",
              "      <td>4</td>\n",
              "      <td>3</td>\n",
              "      <td>4</td>\n",
              "      <td>4</td>\n",
              "      <td>4</td>\n",
              "      <td>5</td>\n",
              "      <td>0</td>\n",
              "      <td>0.0</td>\n",
              "      <td>1</td>\n",
              "      <td>0</td>\n",
              "      <td>1</td>\n",
              "      <td>0</td>\n",
              "      <td>1</td>\n",
              "      <td>0</td>\n",
              "      <td>1</td>\n",
              "      <td>0</td>\n",
              "      <td>0</td>\n",
              "    </tr>\n",
              "    <tr>\n",
              "      <th>3</th>\n",
              "      <td>25</td>\n",
              "      <td>562</td>\n",
              "      <td>2</td>\n",
              "      <td>5</td>\n",
              "      <td>5</td>\n",
              "      <td>5</td>\n",
              "      <td>2</td>\n",
              "      <td>2</td>\n",
              "      <td>2</td>\n",
              "      <td>2</td>\n",
              "      <td>2</td>\n",
              "      <td>5</td>\n",
              "      <td>3</td>\n",
              "      <td>1</td>\n",
              "      <td>4</td>\n",
              "      <td>2</td>\n",
              "      <td>11</td>\n",
              "      <td>9.0</td>\n",
              "      <td>1</td>\n",
              "      <td>0</td>\n",
              "      <td>1</td>\n",
              "      <td>0</td>\n",
              "      <td>1</td>\n",
              "      <td>0</td>\n",
              "      <td>1</td>\n",
              "      <td>0</td>\n",
              "      <td>0</td>\n",
              "    </tr>\n",
              "    <tr>\n",
              "      <th>4</th>\n",
              "      <td>61</td>\n",
              "      <td>214</td>\n",
              "      <td>3</td>\n",
              "      <td>3</td>\n",
              "      <td>3</td>\n",
              "      <td>3</td>\n",
              "      <td>4</td>\n",
              "      <td>5</td>\n",
              "      <td>5</td>\n",
              "      <td>3</td>\n",
              "      <td>3</td>\n",
              "      <td>4</td>\n",
              "      <td>4</td>\n",
              "      <td>3</td>\n",
              "      <td>3</td>\n",
              "      <td>3</td>\n",
              "      <td>0</td>\n",
              "      <td>0.0</td>\n",
              "      <td>0</td>\n",
              "      <td>1</td>\n",
              "      <td>1</td>\n",
              "      <td>0</td>\n",
              "      <td>1</td>\n",
              "      <td>0</td>\n",
              "      <td>1</td>\n",
              "      <td>0</td>\n",
              "      <td>0</td>\n",
              "    </tr>\n",
              "  </tbody>\n",
              "</table>\n",
              "</div>"
            ],
            "text/plain": [
              "   age  flight_distance  ...  customer_class_Eco  customer_class_Eco Plus\n",
              "0   13              460  ...                   0                        1\n",
              "1   25              235  ...                   0                        0\n",
              "2   26             1142  ...                   0                        0\n",
              "3   25              562  ...                   0                        0\n",
              "4   61              214  ...                   0                        0\n",
              "\n",
              "[5 rows x 27 columns]"
            ]
          },
          "metadata": {
            "tags": []
          },
          "execution_count": 26
        }
      ]
    },
    {
      "cell_type": "code",
      "metadata": {
        "colab": {
          "base_uri": "https://localhost:8080/"
        },
        "id": "Y9DQwcBQtuLe",
        "outputId": "ae34ebe5-7ff4-4b5c-c93c-35358ddf6e5a"
      },
      "source": [
        "features_withdummies.info()"
      ],
      "execution_count": null,
      "outputs": [
        {
          "output_type": "stream",
          "text": [
            "<class 'pandas.core.frame.DataFrame'>\n",
            "Int64Index: 129487 entries, 0 to 129879\n",
            "Data columns (total 27 columns):\n",
            " #   Column                             Non-Null Count   Dtype  \n",
            "---  ------                             --------------   -----  \n",
            " 0   age                                129487 non-null  int64  \n",
            " 1   flight_distance                    129487 non-null  int64  \n",
            " 2   inflight_wifi_service              129487 non-null  int64  \n",
            " 3   departure_arrival_time_convenient  129487 non-null  int64  \n",
            " 4   ease_of_online_booking             129487 non-null  int64  \n",
            " 5   gate_location                      129487 non-null  int64  \n",
            " 6   food_and_drink                     129487 non-null  int64  \n",
            " 7   online_boarding                    129487 non-null  int64  \n",
            " 8   seat_comfort                       129487 non-null  int64  \n",
            " 9   inflight_entertainment             129487 non-null  int64  \n",
            " 10  onboard_service                    129487 non-null  int64  \n",
            " 11  leg_room_service                   129487 non-null  int64  \n",
            " 12  baggage_handling                   129487 non-null  int64  \n",
            " 13  checkin_service                    129487 non-null  int64  \n",
            " 14  inflight_service                   129487 non-null  int64  \n",
            " 15  cleanliness                        129487 non-null  int64  \n",
            " 16  departure_delay_in_minutes         129487 non-null  int64  \n",
            " 17  arrival_delay_in_minutes           129487 non-null  float64\n",
            " 18  Gender_Female                      129487 non-null  uint8  \n",
            " 19  Gender_Male                        129487 non-null  uint8  \n",
            " 20  customer_type_Loyal Customer       129487 non-null  uint8  \n",
            " 21  customer_type_disloyal Customer    129487 non-null  uint8  \n",
            " 22  type_of_travel_Business travel     129487 non-null  uint8  \n",
            " 23  type_of_travel_Personal Travel     129487 non-null  uint8  \n",
            " 24  customer_class_Business            129487 non-null  uint8  \n",
            " 25  customer_class_Eco                 129487 non-null  uint8  \n",
            " 26  customer_class_Eco Plus            129487 non-null  uint8  \n",
            "dtypes: float64(1), int64(17), uint8(9)\n",
            "memory usage: 19.9 MB\n"
          ],
          "name": "stdout"
        }
      ]
    },
    {
      "cell_type": "markdown",
      "metadata": {
        "id": "0O3gI08OtwCr"
      },
      "source": [
        "Then I re-encode the features. For example, the variable gender originally has two values, one is male and the other is female. Therefore age is obviously a binary variable. Encode age into two variables Gender_Female and Gender_Male. Gender_Female=1 means female, and Gender_Male=1 means male.\n",
        "\n",
        "After recoding, our data is expanded from 22 columns to 26 columns."
      ]
    },
    {
      "cell_type": "markdown",
      "metadata": {
        "id": "tTttORxe_172"
      },
      "source": [
        "# 2 Analysis"
      ]
    },
    {
      "cell_type": "code",
      "metadata": {
        "id": "ggqNdS9RqRqN",
        "colab": {
          "base_uri": "https://localhost:8080/"
        },
        "outputId": "3c84fbd5-92c6-453b-9006-d9fea8fce626"
      },
      "source": [
        "from sklearn import svm, datasets\n",
        "from sklearn.model_selection import train_test_split\n",
        "from sklearn.metrics import confusion_matrix\n",
        "from sklearn.dummy import DummyClassifier\n",
        "from sklearn.ensemble import RandomForestClassifier\n",
        "from sklearn.metrics import classification_report, roc_curve, auc, precision_recall_curve\n",
        "from sklearn.externals import joblib\n",
        "from sklearn.model_selection import RandomizedSearchCV\n",
        "from sklearn.feature_selection import SelectKBest"
      ],
      "execution_count": null,
      "outputs": [
        {
          "output_type": "stream",
          "text": [
            "/usr/local/lib/python3.7/dist-packages/sklearn/externals/joblib/__init__.py:15: FutureWarning: sklearn.externals.joblib is deprecated in 0.21 and will be removed in 0.23. Please import this functionality directly from joblib, which can be installed with: pip install joblib. If this warning is raised when loading pickled models, you may need to re-serialize those models with scikit-learn 0.21+.\n",
            "  warnings.warn(msg, category=FutureWarning)\n"
          ],
          "name": "stderr"
        }
      ]
    },
    {
      "cell_type": "code",
      "metadata": {
        "colab": {
          "base_uri": "https://localhost:8080/"
        },
        "id": "XsFvrlZfvS8p",
        "outputId": "c6c51ec3-a211-4d8b-c8e4-177a511981bd"
      },
      "source": [
        "features_train, features_test, target_train, target_test = train_test_split(features_withdummies, target, test_size=0.3, random_state=0)\n",
        "features_train.info()"
      ],
      "execution_count": null,
      "outputs": [
        {
          "output_type": "stream",
          "text": [
            "<class 'pandas.core.frame.DataFrame'>\n",
            "Int64Index: 90640 entries, 104965 to 68473\n",
            "Data columns (total 27 columns):\n",
            " #   Column                             Non-Null Count  Dtype  \n",
            "---  ------                             --------------  -----  \n",
            " 0   age                                90640 non-null  int64  \n",
            " 1   flight_distance                    90640 non-null  int64  \n",
            " 2   inflight_wifi_service              90640 non-null  int64  \n",
            " 3   departure_arrival_time_convenient  90640 non-null  int64  \n",
            " 4   ease_of_online_booking             90640 non-null  int64  \n",
            " 5   gate_location                      90640 non-null  int64  \n",
            " 6   food_and_drink                     90640 non-null  int64  \n",
            " 7   online_boarding                    90640 non-null  int64  \n",
            " 8   seat_comfort                       90640 non-null  int64  \n",
            " 9   inflight_entertainment             90640 non-null  int64  \n",
            " 10  onboard_service                    90640 non-null  int64  \n",
            " 11  leg_room_service                   90640 non-null  int64  \n",
            " 12  baggage_handling                   90640 non-null  int64  \n",
            " 13  checkin_service                    90640 non-null  int64  \n",
            " 14  inflight_service                   90640 non-null  int64  \n",
            " 15  cleanliness                        90640 non-null  int64  \n",
            " 16  departure_delay_in_minutes         90640 non-null  int64  \n",
            " 17  arrival_delay_in_minutes           90640 non-null  float64\n",
            " 18  Gender_Female                      90640 non-null  uint8  \n",
            " 19  Gender_Male                        90640 non-null  uint8  \n",
            " 20  customer_type_Loyal Customer       90640 non-null  uint8  \n",
            " 21  customer_type_disloyal Customer    90640 non-null  uint8  \n",
            " 22  type_of_travel_Business travel     90640 non-null  uint8  \n",
            " 23  type_of_travel_Personal Travel     90640 non-null  uint8  \n",
            " 24  customer_class_Business            90640 non-null  uint8  \n",
            " 25  customer_class_Eco                 90640 non-null  uint8  \n",
            " 26  customer_class_Eco Plus            90640 non-null  uint8  \n",
            "dtypes: float64(1), int64(17), uint8(9)\n",
            "memory usage: 13.9 MB\n"
          ],
          "name": "stdout"
        }
      ]
    },
    {
      "cell_type": "markdown",
      "metadata": {
        "id": "Rw_o4Jlouq65"
      },
      "source": [
        "For training data and test data, segmentation is required to prevent overfitting.\n",
        "We can see a total of 90,640 feature data used for training."
      ]
    },
    {
      "cell_type": "code",
      "metadata": {
        "colab": {
          "base_uri": "https://localhost:8080/"
        },
        "id": "ohCxG3HjvfIP",
        "outputId": "7fe3a936-5917-4d5c-abca-12726b5c08fd"
      },
      "source": [
        "features_test.info()"
      ],
      "execution_count": null,
      "outputs": [
        {
          "output_type": "stream",
          "text": [
            "<class 'pandas.core.frame.DataFrame'>\n",
            "Int64Index: 38847 entries, 43170 to 25002\n",
            "Data columns (total 27 columns):\n",
            " #   Column                             Non-Null Count  Dtype  \n",
            "---  ------                             --------------  -----  \n",
            " 0   age                                38847 non-null  int64  \n",
            " 1   flight_distance                    38847 non-null  int64  \n",
            " 2   inflight_wifi_service              38847 non-null  int64  \n",
            " 3   departure_arrival_time_convenient  38847 non-null  int64  \n",
            " 4   ease_of_online_booking             38847 non-null  int64  \n",
            " 5   gate_location                      38847 non-null  int64  \n",
            " 6   food_and_drink                     38847 non-null  int64  \n",
            " 7   online_boarding                    38847 non-null  int64  \n",
            " 8   seat_comfort                       38847 non-null  int64  \n",
            " 9   inflight_entertainment             38847 non-null  int64  \n",
            " 10  onboard_service                    38847 non-null  int64  \n",
            " 11  leg_room_service                   38847 non-null  int64  \n",
            " 12  baggage_handling                   38847 non-null  int64  \n",
            " 13  checkin_service                    38847 non-null  int64  \n",
            " 14  inflight_service                   38847 non-null  int64  \n",
            " 15  cleanliness                        38847 non-null  int64  \n",
            " 16  departure_delay_in_minutes         38847 non-null  int64  \n",
            " 17  arrival_delay_in_minutes           38847 non-null  float64\n",
            " 18  Gender_Female                      38847 non-null  uint8  \n",
            " 19  Gender_Male                        38847 non-null  uint8  \n",
            " 20  customer_type_Loyal Customer       38847 non-null  uint8  \n",
            " 21  customer_type_disloyal Customer    38847 non-null  uint8  \n",
            " 22  type_of_travel_Business travel     38847 non-null  uint8  \n",
            " 23  type_of_travel_Personal Travel     38847 non-null  uint8  \n",
            " 24  customer_class_Business            38847 non-null  uint8  \n",
            " 25  customer_class_Eco                 38847 non-null  uint8  \n",
            " 26  customer_class_Eco Plus            38847 non-null  uint8  \n",
            "dtypes: float64(1), int64(17), uint8(9)\n",
            "memory usage: 6.0 MB\n"
          ],
          "name": "stdout"
        }
      ]
    },
    {
      "cell_type": "markdown",
      "metadata": {
        "id": "PKrh2kBZvkKo"
      },
      "source": [
        "A total of 38847 pieces of characteristic data were used for testing.\n",
        "The total number of feature data in the training set and test set is 129,487, which is consistent with the total number of feature data processed before."
      ]
    },
    {
      "cell_type": "code",
      "metadata": {
        "id": "aDn2WOK7uom5"
      },
      "source": [
        "model_rf=RandomForestClassifier(oob_score = True, max_features = 'auto', n_estimators = 100, min_samples_leaf = 2, random_state = 0)"
      ],
      "execution_count": null,
      "outputs": []
    },
    {
      "cell_type": "markdown",
      "metadata": {
        "id": "IjWDco6iwOaI"
      },
      "source": [
        "n_estimators = 100 means that the number of decision trees in the random forest is 100\n",
        "The number of trees in the forest.\n",
        "\n",
        "min_samples_leaf = 2 means that the minimum number of leaf nodes is 2.\n",
        "\n",
        "The minimum number of samples required to be at a leaf node"
      ]
    },
    {
      "cell_type": "code",
      "metadata": {
        "colab": {
          "base_uri": "https://localhost:8080/"
        },
        "id": "9TMBZe95wtdH",
        "outputId": "f381e876-b0df-4487-b61e-3e19035ba122"
      },
      "source": [
        "model_rf.fit(features_train, target_train)"
      ],
      "execution_count": null,
      "outputs": [
        {
          "output_type": "execute_result",
          "data": {
            "text/plain": [
              "RandomForestClassifier(bootstrap=True, ccp_alpha=0.0, class_weight=None,\n",
              "                       criterion='gini', max_depth=None, max_features='auto',\n",
              "                       max_leaf_nodes=None, max_samples=None,\n",
              "                       min_impurity_decrease=0.0, min_impurity_split=None,\n",
              "                       min_samples_leaf=2, min_samples_split=2,\n",
              "                       min_weight_fraction_leaf=0.0, n_estimators=100,\n",
              "                       n_jobs=None, oob_score=True, random_state=0, verbose=0,\n",
              "                       warm_start=False)"
            ]
          },
          "metadata": {
            "tags": []
          },
          "execution_count": 33
        }
      ]
    },
    {
      "cell_type": "code",
      "metadata": {
        "colab": {
          "base_uri": "https://localhost:8080/"
        },
        "id": "iFnimOjVwyIt",
        "outputId": "e5f86666-d644-47a2-d920-b2e64f6a2c73"
      },
      "source": [
        "mean_model_accuracy = model_rf.oob_score_\n",
        "print(\"Model accuracy: \"+str(mean_model_accuracy))"
      ],
      "execution_count": null,
      "outputs": [
        {
          "output_type": "stream",
          "text": [
            "Model accuracy: 0.9613857016769638\n"
          ],
          "name": "stdout"
        }
      ]
    },
    {
      "cell_type": "markdown",
      "metadata": {
        "id": "Jkjy9Y4sw4gO"
      },
      "source": [
        "With samples outside the bag, the accuracy of this tree can be evaluated. Therefore, the model does not require cross-validation. Finally, the results of multiple subtrees are averaged to obtain the results of the random forest model"
      ]
    },
    {
      "cell_type": "code",
      "metadata": {
        "colab": {
          "base_uri": "https://localhost:8080/"
        },
        "id": "izl5yr_JxQLW",
        "outputId": "d12aedf6-f6f8-4547-c022-6a847b29d18b"
      },
      "source": [
        "baseline_rf = DummyClassifier(strategy='stratified',random_state=0)\n",
        "baseline_rf.fit(features_train, target_train)\n",
        "baseline_model_accuracy = baseline_rf.score(features_test, target_test)\n",
        "print(\"Model accuracy: \"+str(baseline_model_accuracy))"
      ],
      "execution_count": null,
      "outputs": [
        {
          "output_type": "stream",
          "text": [
            "Model accuracy: 0.5104898705176719\n"
          ],
          "name": "stdout"
        }
      ]
    },
    {
      "cell_type": "markdown",
      "metadata": {
        "id": "dMGF7zzqxVKE"
      },
      "source": [
        "I choose to use Dummy Classifier model to get a baseline which generates predictions by respecting the training set’s class distribution."
      ]
    },
    {
      "cell_type": "code",
      "metadata": {
        "colab": {
          "base_uri": "https://localhost:8080/"
        },
        "id": "wsYcurpkxqZD",
        "outputId": "ddc87fe3-3149-43ee-82d6-ae2026fbb1d1"
      },
      "source": [
        "y_pred = model_rf.predict(features_test)\n",
        "y_true = np.array(target_test)\n",
        "categories = np.array(target.sort_values().unique())\n",
        "print(classification_report(y_true, y_pred))"
      ],
      "execution_count": null,
      "outputs": [
        {
          "output_type": "stream",
          "text": [
            "                         precision    recall  f1-score   support\n",
            "\n",
            "neutral or dissatisfied       0.96      0.98      0.97     22014\n",
            "              satisfied       0.97      0.94      0.96     16833\n",
            "\n",
            "               accuracy                           0.96     38847\n",
            "              macro avg       0.96      0.96      0.96     38847\n",
            "           weighted avg       0.96      0.96      0.96     38847\n",
            "\n"
          ],
          "name": "stdout"
        }
      ]
    },
    {
      "cell_type": "markdown",
      "metadata": {
        "id": "YY9I7FzZxvNq"
      },
      "source": [
        "This analysis uses the verification set of features (features_test) and the verification set of tags (target_test) for model evaluation.\n",
        "\n",
        "The accuracy of the model is relatively high. The prediction accuracy rate for satisfied customers is 96%, and the prediction accuracy rate for dissatisfied customers is 97%.\n",
        "The recall rate of dissatisfied customers is 98%, and the recall rate of satisfied customers is 94%.\n",
        "\n",
        "The f1 value is the harmonic average of precision and recall, and the scores are 0.97 and 0.96.\n",
        "\n"
      ]
    },
    {
      "cell_type": "markdown",
      "metadata": {
        "id": "RN_FVx5kzME4"
      },
      "source": [
        "It can be seen from the above indicators that our model works well. It can predict and classify customer satisfaction through features more accurately."
      ]
    },
    {
      "cell_type": "code",
      "metadata": {
        "id": "PYbq7Xm_zjiY"
      },
      "source": [
        "importances = model_rf.feature_importances_\n",
        "std = np.std([tree.feature_importances_ for tree in model_rf.estimators_], axis=0)\n",
        "indices = np.argsort(importances)[::-1]  "
      ],
      "execution_count": null,
      "outputs": []
    },
    {
      "cell_type": "code",
      "metadata": {
        "colab": {
          "base_uri": "https://localhost:8080/",
          "height": 455
        },
        "id": "SyaCGn_pzrL4",
        "outputId": "25c4da71-c3e6-400b-a1b5-63996e42b75a"
      },
      "source": [
        "plt.figure(figsize=(15,6))\n",
        "plt.title(\"Feature Importances\")\n",
        "plt.barh(range(22), importances[indices][:22], align=\"center\")\n",
        "plt.yticks(range(22), features_withdummies.columns[indices][:22])\n",
        "plt.gca().invert_yaxis()\n",
        "plt.tight_layout(pad=0.4)\n",
        "plt.show()"
      ],
      "execution_count": null,
      "outputs": [
        {
          "output_type": "display_data",
          "data": {
            "image/png": "[encoded data removed]",
            "text/plain": [
              "<Figure size 1080x432 with 1 Axes>"
            ]
          },
          "metadata": {
            "tags": []
          }
        }
      ]
    },
    {
      "cell_type": "markdown",
      "metadata": {
        "id": "bloP-7x20Ldc"
      },
      "source": [
        "Through the contribution of features to the model, the importance of each feature can be obtained.\n",
        "\n",
        "Therefore, we can see that the most important influencing factor is \"online_boarding\", followed by \"inflight_wifi_service\".\n",
        "The least important factor is \"arrival_delay_in_minutes\"."
      ]
    },
    {
      "cell_type": "markdown",
      "metadata": {
        "id": "dou5B2zg_175"
      },
      "source": [
        "# 3 Visualisation"
      ]
    },
    {
      "cell_type": "code",
      "metadata": {
        "id": "AXM1_g_I4svI"
      },
      "source": [
        "import seaborn as sns\n",
        "import matplotlib.pyplot as plt\n",
        "import pandas as pd\n",
        "%matplotlib inline"
      ],
      "execution_count": null,
      "outputs": []
    },
    {
      "cell_type": "code",
      "metadata": {
        "colab": {
          "base_uri": "https://localhost:8080/",
          "height": 326
        },
        "id": "cEqZRtqL6ANI",
        "outputId": "a9ad3479-dcc3-4eae-fde0-5e93cd4c3b28"
      },
      "source": [
        "sns.set_style('whitegrid')\n",
        "data = pd.read_csv('/content/Exam1_Airline.csv')\n",
        "data.head()"
      ],
      "execution_count": null,
      "outputs": [
        {
          "output_type": "execute_result",
          "data": {
            "text/html": [
              "<div>\n",
              "<style scoped>\n",
              "    .dataframe tbody tr th:only-of-type {\n",
              "        vertical-align: middle;\n",
              "    }\n",
              "\n",
              "    .dataframe tbody tr th {\n",
              "        vertical-align: top;\n",
              "    }\n",
              "\n",
              "    .dataframe thead th {\n",
              "        text-align: right;\n",
              "    }\n",
              "</style>\n",
              "<table border=\"1\" class=\"dataframe\">\n",
              "  <thead>\n",
              "    <tr style=\"text-align: right;\">\n",
              "      <th></th>\n",
              "      <th>Unnamed: 0</th>\n",
              "      <th>Gender</th>\n",
              "      <th>customer_type</th>\n",
              "      <th>age</th>\n",
              "      <th>type_of_travel</th>\n",
              "      <th>customer_class</th>\n",
              "      <th>flight_distance</th>\n",
              "      <th>inflight_wifi_service</th>\n",
              "      <th>departure_arrival_time_convenient</th>\n",
              "      <th>ease_of_online_booking</th>\n",
              "      <th>gate_location</th>\n",
              "      <th>food_and_drink</th>\n",
              "      <th>online_boarding</th>\n",
              "      <th>seat_comfort</th>\n",
              "      <th>inflight_entertainment</th>\n",
              "      <th>onboard_service</th>\n",
              "      <th>leg_room_service</th>\n",
              "      <th>baggage_handling</th>\n",
              "      <th>checkin_service</th>\n",
              "      <th>inflight_service</th>\n",
              "      <th>cleanliness</th>\n",
              "      <th>departure_delay_in_minutes</th>\n",
              "      <th>arrival_delay_in_minutes</th>\n",
              "      <th>satisfaction</th>\n",
              "    </tr>\n",
              "  </thead>\n",
              "  <tbody>\n",
              "    <tr>\n",
              "      <th>0</th>\n",
              "      <td>0</td>\n",
              "      <td>Male</td>\n",
              "      <td>Loyal Customer</td>\n",
              "      <td>13</td>\n",
              "      <td>Personal Travel</td>\n",
              "      <td>Eco Plus</td>\n",
              "      <td>460</td>\n",
              "      <td>3</td>\n",
              "      <td>4</td>\n",
              "      <td>3</td>\n",
              "      <td>1</td>\n",
              "      <td>5</td>\n",
              "      <td>3</td>\n",
              "      <td>5</td>\n",
              "      <td>5</td>\n",
              "      <td>4</td>\n",
              "      <td>3</td>\n",
              "      <td>4</td>\n",
              "      <td>4</td>\n",
              "      <td>5</td>\n",
              "      <td>5</td>\n",
              "      <td>25</td>\n",
              "      <td>18.0</td>\n",
              "      <td>neutral or dissatisfied</td>\n",
              "    </tr>\n",
              "    <tr>\n",
              "      <th>1</th>\n",
              "      <td>1</td>\n",
              "      <td>Male</td>\n",
              "      <td>disloyal Customer</td>\n",
              "      <td>25</td>\n",
              "      <td>Business travel</td>\n",
              "      <td>Business</td>\n",
              "      <td>235</td>\n",
              "      <td>3</td>\n",
              "      <td>2</td>\n",
              "      <td>3</td>\n",
              "      <td>3</td>\n",
              "      <td>1</td>\n",
              "      <td>3</td>\n",
              "      <td>1</td>\n",
              "      <td>1</td>\n",
              "      <td>1</td>\n",
              "      <td>5</td>\n",
              "      <td>3</td>\n",
              "      <td>1</td>\n",
              "      <td>4</td>\n",
              "      <td>1</td>\n",
              "      <td>1</td>\n",
              "      <td>6.0</td>\n",
              "      <td>neutral or dissatisfied</td>\n",
              "    </tr>\n",
              "    <tr>\n",
              "      <th>2</th>\n",
              "      <td>2</td>\n",
              "      <td>Female</td>\n",
              "      <td>Loyal Customer</td>\n",
              "      <td>26</td>\n",
              "      <td>Business travel</td>\n",
              "      <td>Business</td>\n",
              "      <td>1142</td>\n",
              "      <td>2</td>\n",
              "      <td>2</td>\n",
              "      <td>2</td>\n",
              "      <td>2</td>\n",
              "      <td>5</td>\n",
              "      <td>5</td>\n",
              "      <td>5</td>\n",
              "      <td>5</td>\n",
              "      <td>4</td>\n",
              "      <td>3</td>\n",
              "      <td>4</td>\n",
              "      <td>4</td>\n",
              "      <td>4</td>\n",
              "      <td>5</td>\n",
              "      <td>0</td>\n",
              "      <td>0.0</td>\n",
              "      <td>satisfied</td>\n",
              "    </tr>\n",
              "    <tr>\n",
              "      <th>3</th>\n",
              "      <td>3</td>\n",
              "      <td>Female</td>\n",
              "      <td>Loyal Customer</td>\n",
              "      <td>25</td>\n",
              "      <td>Business travel</td>\n",
              "      <td>Business</td>\n",
              "      <td>562</td>\n",
              "      <td>2</td>\n",
              "      <td>5</td>\n",
              "      <td>5</td>\n",
              "      <td>5</td>\n",
              "      <td>2</td>\n",
              "      <td>2</td>\n",
              "      <td>2</td>\n",
              "      <td>2</td>\n",
              "      <td>2</td>\n",
              "      <td>5</td>\n",
              "      <td>3</td>\n",
              "      <td>1</td>\n",
              "      <td>4</td>\n",
              "      <td>2</td>\n",
              "      <td>11</td>\n",
              "      <td>9.0</td>\n",
              "      <td>neutral or dissatisfied</td>\n",
              "    </tr>\n",
              "    <tr>\n",
              "      <th>4</th>\n",
              "      <td>4</td>\n",
              "      <td>Male</td>\n",
              "      <td>Loyal Customer</td>\n",
              "      <td>61</td>\n",
              "      <td>Business travel</td>\n",
              "      <td>Business</td>\n",
              "      <td>214</td>\n",
              "      <td>3</td>\n",
              "      <td>3</td>\n",
              "      <td>3</td>\n",
              "      <td>3</td>\n",
              "      <td>4</td>\n",
              "      <td>5</td>\n",
              "      <td>5</td>\n",
              "      <td>3</td>\n",
              "      <td>3</td>\n",
              "      <td>4</td>\n",
              "      <td>4</td>\n",
              "      <td>3</td>\n",
              "      <td>3</td>\n",
              "      <td>3</td>\n",
              "      <td>0</td>\n",
              "      <td>0.0</td>\n",
              "      <td>satisfied</td>\n",
              "    </tr>\n",
              "  </tbody>\n",
              "</table>\n",
              "</div>"
            ],
            "text/plain": [
              "   Unnamed: 0  Gender  ... arrival_delay_in_minutes             satisfaction\n",
              "0           0    Male  ...                     18.0  neutral or dissatisfied\n",
              "1           1    Male  ...                      6.0  neutral or dissatisfied\n",
              "2           2  Female  ...                      0.0                satisfied\n",
              "3           3  Female  ...                      9.0  neutral or dissatisfied\n",
              "4           4    Male  ...                      0.0                satisfied\n",
              "\n",
              "[5 rows x 24 columns]"
            ]
          },
          "metadata": {
            "tags": []
          },
          "execution_count": 41
        }
      ]
    },
    {
      "cell_type": "code",
      "metadata": {
        "colab": {
          "base_uri": "https://localhost:8080/",
          "height": 356
        },
        "id": "1GwyuVDC6fhG",
        "outputId": "17392d1c-bc9d-4fd9-f2da-68af2c030ae8"
      },
      "source": [
        "sns.distplot(data['online_boarding'],bins=30,kde=False,color='red')"
      ],
      "execution_count": null,
      "outputs": [
        {
          "output_type": "stream",
          "text": [
            "/usr/local/lib/python3.7/dist-packages/seaborn/distributions.py:2557: FutureWarning: `distplot` is a deprecated function and will be removed in a future version. Please adapt your code to use either `displot` (a figure-level function with similar flexibility) or `histplot` (an axes-level function for histograms).\n",
            "  warnings.warn(msg, FutureWarning)\n"
          ],
          "name": "stderr"
        },
        {
          "output_type": "execute_result",
          "data": {
            "text/plain": [
              "<matplotlib.axes._subplots.AxesSubplot at 0x7f5e510b2090>"
            ]
          },
          "metadata": {
            "tags": []
          },
          "execution_count": 43
        },
        {
          "output_type": "display_data",
          "data": {
            "image/png": "[encoded data removed]",
            "text/plain": [
              "<Figure size 432x288 with 1 Axes>"
            ]
          },
          "metadata": {
            "tags": []
          }
        }
      ]
    },
    {
      "cell_type": "markdown",
      "metadata": {
        "id": "dBDBX6UE-8zL"
      },
      "source": [
        "By drawing the frequency distribution histogram of online_boarding, we can clearly see the number of online_boarding under different values"
      ]
    },
    {
      "cell_type": "code",
      "metadata": {
        "colab": {
          "base_uri": "https://localhost:8080/",
          "height": 297
        },
        "id": "qWlVUBop6hjP",
        "outputId": "fb363521-1641-47e2-9787-8432ba6337a8"
      },
      "source": [
        "sns.boxplot(x='satisfaction',y='online_boarding',data=data,palette='rainbow' )"
      ],
      "execution_count": null,
      "outputs": [
        {
          "output_type": "execute_result",
          "data": {
            "text/plain": [
              "<matplotlib.axes._subplots.AxesSubplot at 0x7f5e50f702d0>"
            ]
          },
          "metadata": {
            "tags": []
          },
          "execution_count": 45
        },
        {
          "output_type": "display_data",
          "data": {
            "image/png": "[encoded data removed]",
            "text/plain": [
              "<Figure size 432x288 with 1 Axes>"
            ]
          },
          "metadata": {
            "tags": []
          }
        }
      ]
    },
    {
      "cell_type": "markdown",
      "metadata": {
        "id": "bROw5zFy-oem"
      },
      "source": [
        "It can be seen from the box diagram that dissatisfied customers are mainly concentrated in the range 1-4 of online_boarding.Satisfied customers are mainly concentrated in the 4-5 range of online_boarding."
      ]
    },
    {
      "cell_type": "code",
      "metadata": {
        "colab": {
          "base_uri": "https://localhost:8080/",
          "height": 769
        },
        "id": "2GW8Wky4-PPe",
        "outputId": "24f3204a-f73e-4d2e-ed97-f8f5dd18dbe5"
      },
      "source": [
        "def plot_confusion_matrix(cm, categories, title='Confusion matrix', cmap='Reds'):\n",
        "    plt.imshow(cm, interpolation='nearest', cmap=cmap)\n",
        "    plt.title(title)\n",
        "    plt.colorbar()\n",
        "    tick_marks = np.arange(len(categories))\n",
        "    plt.xticks(tick_marks,categories, rotation=90)\n",
        "    plt.yticks(tick_marks,categories)\n",
        "    plt.tight_layout()\n",
        "    plt.ylabel('True label')\n",
        "    plt.xlabel('Predicted label')\n",
        "    plt.tight_layout()\n",
        "\n",
        "sns.set(font_scale=1.4)\n",
        "cm = confusion_matrix(y_true, y_pred)\n",
        "np.set_printoptions(precision=2)\n",
        "print('Confusion matrix, without normalization')\n",
        "print(cm)\n",
        "plt.figure(figsize=(12,10))\n",
        "plot_confusion_matrix(cm, categories)"
      ],
      "execution_count": null,
      "outputs": [
        {
          "output_type": "stream",
          "text": [
            "Confusion matrix, without normalization\n",
            "[[21551   463]\n",
            " [ 1002 15831]]\n"
          ],
          "name": "stdout"
        },
        {
          "output_type": "display_data",
          "data": {
            "image/png": "[encoded data removed]",
            "text/plain": [
              "<Figure size 864x720 with 2 Axes>"
            ]
          },
          "metadata": {
            "tags": []
          }
        }
      ]
    },
    {
      "cell_type": "markdown",
      "metadata": {
        "id": "VSezG17uGRS8"
      },
      "source": [
        "A confusion matrix is a visualization that helps a user understand which classes are being misclassified. From the above figure, we can see that the data is mainly concentrated in the upper left corner and the lower left corner, which is the diagonal of the confusion matrix, indicating that the prediction accuracy is high.\n",
        "\n"
      ]
    },
    {
      "cell_type": "code",
      "metadata": {
        "colab": {
          "base_uri": "https://localhost:8080/"
        },
        "id": "glt80wbx_gTk",
        "outputId": "6e62767d-975c-4cba-dc27-9322d9a16ed7"
      },
      "source": [
        "from sklearn.linear_model import LogisticRegression\n",
        "lr = LogisticRegression(solver='lbfgs',max_iter=100000)\n",
        "lr.fit(features_train,target_train) \n"
      ],
      "execution_count": null,
      "outputs": [
        {
          "output_type": "execute_result",
          "data": {
            "text/plain": [
              "LogisticRegression(C=1.0, class_weight=None, dual=False, fit_intercept=True,\n",
              "                   intercept_scaling=1, l1_ratio=None, max_iter=100000,\n",
              "                   multi_class='auto', n_jobs=None, penalty='l2',\n",
              "                   random_state=None, solver='lbfgs', tol=0.0001, verbose=0,\n",
              "                   warm_start=False)"
            ]
          },
          "metadata": {
            "tags": []
          },
          "execution_count": 73
        }
      ]
    },
    {
      "cell_type": "code",
      "metadata": {
        "colab": {
          "background_save": true
        },
        "id": "SYBAdGP3MZlG",
        "outputId": "ac8ecae0-fc25-43ae-9f93-436d3bfb18eb"
      },
      "source": [
        "score = lr.score(features_train,target_train)\n",
        "print(\"score in training set:\",score)\n",
        "score = lr.score(features_test,target_test)\n",
        "print(\"score in test set:\",score)"
      ],
      "execution_count": null,
      "outputs": [
        {
          "output_type": "stream",
          "text": [
            "score in training set: 0.8744814651368049\n",
            "score in test set: 0.8707750920276984\n"
          ],
          "name": "stdout"
        }
      ]
    },
    {
      "cell_type": "markdown",
      "metadata": {
        "id": "ITxHc5WaKppS"
      },
      "source": [
        "The score of Logical regression model in the training set and test set is 0.874 and 0.871.\n",
        "The difference between the two scores was not large, indicating that there was no problem of fitting\n",
        "However, the model score is lower than that of random forest, indicating that the effect is not as good as that of random forest\n"
      ]
    },
    {
      "cell_type": "code",
      "metadata": {
        "colab": {
          "base_uri": "https://localhost:8080/"
        },
        "id": "tXteMU4rMZlH",
        "outputId": "008d4234-92d9-45f3-f951-796fd70df3c7"
      },
      "source": [
        "print(lr.coef_)\n",
        "print(lr.intercept_)"
      ],
      "execution_count": null,
      "outputs": [
        {
          "output_type": "stream",
          "text": [
            "[[-1.19e-02 -4.20e-05  3.72e-01 -1.51e-01 -1.14e-01 -1.20e-02 -3.50e-02\n",
            "   5.76e-01  7.35e-02  2.16e-02  3.18e-01  2.37e-01  1.29e-01  3.19e-01\n",
            "   1.21e-01  2.60e-01  5.79e-03 -1.05e-02 -1.49e+00 -1.43e+00 -3.31e-01\n",
            "  -2.59e+00 -4.55e-02 -2.88e+00 -4.64e-01 -1.12e+00 -1.34e+00]]\n",
            "[-2.93]\n"
          ],
          "name": "stdout"
        }
      ]
    },
    {
      "cell_type": "markdown",
      "metadata": {
        "id": "0DJB4lGlMZlH"
      },
      "source": [
        "Look at the feature coefficient and intercept term respectively\n",
        "The feature coefficient is the coefficient before the feature, the absolute value of which indicates the importance of each feature"
      ]
    },
    {
      "cell_type": "code",
      "metadata": {
        "colab": {
          "base_uri": "https://localhost:8080/"
        },
        "id": "Iu7KwQxeMZlH",
        "outputId": "f006d7eb-c76e-4d32-e871-2b57a92c2523"
      },
      "source": [
        "coef_c1 = pd.DataFrame({'var':pd.Series(features_test.columns),'coef_abs':abs(pd.Series(lr.coef_[0].flatten()))})\n",
        "coef_c1 = coef_c1.sort_values(by = 'coef_abs',ascending=False)\n",
        "coef_c1.to_csv(\"LR_importance.csv\",index=False,sep=',')\n",
        "print(coef_c1)"
      ],
      "execution_count": null,
      "outputs": [
        {
          "output_type": "stream",
          "text": [
            "                                  var  coef_abs\n",
            "23     type_of_travel_Personal Travel  2.852442\n",
            "21    customer_type_disloyal Customer  2.499922\n",
            "18                      Gender_Female  1.516009\n",
            "19                        Gender_Male  1.439173\n",
            "26            customer_class_Eco Plus  1.324986\n",
            "25                 customer_class_Eco  1.177832\n",
            "7                     online_boarding  0.598651\n",
            "20       customer_type_Loyal Customer  0.455260\n",
            "24            customer_class_Business  0.452365\n",
            "2               inflight_wifi_service  0.405491\n",
            "13                    checkin_service  0.323140\n",
            "10                    onboard_service  0.291879\n",
            "11                   leg_room_service  0.246707\n",
            "15                        cleanliness  0.225209\n",
            "4              ease_of_online_booking  0.159008\n",
            "3   departure_arrival_time_convenient  0.125405\n",
            "12                   baggage_handling  0.122627\n",
            "14                   inflight_service  0.111627\n",
            "22     type_of_travel_Business travel  0.102740\n",
            "9              inflight_entertainment  0.071368\n",
            "8                        seat_comfort  0.058996\n",
            "6                      food_and_drink  0.040043\n",
            "5                       gate_location  0.011435\n",
            "0                                 age  0.009798\n",
            "17           arrival_delay_in_minutes  0.009602\n",
            "16         departure_delay_in_minutes  0.004784\n",
            "1                     flight_distance  0.000023\n"
          ],
          "name": "stdout"
        }
      ]
    },
    {
      "cell_type": "markdown",
      "metadata": {
        "id": "sUg5HyqfMZlH"
      },
      "source": [
        "Online_boarding, inflight_wifi_service and customer_class_Business are the three most important features in the random forest model, ranking eighth, tenth and ninth respectively in the LR regression model.\n",
        "\n",
        "The three most important characteristics in the logistic regression model are type_of_travel_Personal Travel，customer_type_disloyal Customer，Gender_FemaleThe importance of them in the random forest are the 6th, 18th and 26th."
      ]
    },
    {
      "cell_type": "markdown",
      "metadata": {
        "id": "GJmPAEGKMoy8"
      },
      "source": [
        "# 4 Recommendations"
      ]
    },
    {
      "cell_type": "markdown",
      "metadata": {
        "id": "bFjjxJiSrhYA"
      },
      "source": [
        "According to the random forest model, food and water, flight distance, gender and other factors have little influence on customer satisfaction. So airlines should pay more attention to those more important features, such as Online_boarding, inflight_wifi_service and customer_class. Improve the service quality of Online_boarding, and help people buy business class tickets at a low price through discount promotion.\n",
        "\n",
        "For variabls related to the Internet, people tend to pay more attention, such as online_boarding and inflight_wifi_service.There is less emphasis on traditional service, such as baggage handling.Therefore, airline also needs to better build a network platform to provide better information services\n",
        "\n"
      ]
    },
    {
      "cell_type": "markdown",
      "metadata": {
        "id": "IYTGzC1WMupM"
      },
      "source": [
        "# 5 Conclusion"
      ]
    },
    {
      "cell_type": "markdown",
      "metadata": {
        "id": "YamxH1eqLY4H"
      },
      "source": [
        "I have established a random forest model and a logistic regression model, and the random forest model has achieved good results, with the classification accuracy reaching 96%.\n",
        "\n",
        "Through the random forest model, we can see the importance of factors.Online_boarding, inflight_wifi_service and customer_class_Business are the most critical three factors.\n",
        "\n",
        "Therefore, airlines need to enhance the quality of online_boarding and inflight_wifi_service, which can improve customer satisfaction. In addition, more passengers could be upgraded by offering discounts which can also enhance customers' satisfaction."
      ]
    },
    {
      "cell_type": "markdown",
      "metadata": {
        "id": "BTQqa1ErLugb"
      },
      "source": [
        "## 6 Reference"
      ]
    },
    {
      "cell_type": "markdown",
      "metadata": {
        "id": "fPYWGo-0Lyqz"
      },
      "source": [
        "BAN, H.-J. & KIM, H.-S. 2019. Understanding Customer Experience and Satisfaction through Airline Passengers’ Online Review. Sustainability, 11, 4066.\n",
        "\n",
        "KUMAR, S. & ZYMBLER, M. 2019. A machine learning approach to analyze customer satisfaction from airline tweets. Journal of Big Data, 6.\n",
        "\n",
        "LESTARI, Y. D. & MURJITO, E. A. 2020. Factor Determinants of Customer Satisfaction with Airline Services Using Big Data Approaches. Jurnal Pendidikan Ekonomi Dan Bisnis (JPEB), 8, 34-42.\n",
        "\n",
        "PARK, E. 2019. The role of satisfaction on customer reuse to airline services: An application of Big Data approaches. Journal of Retailing and Consumer Services, 47, 370-374.\n",
        "\n",
        "PARK, E., JANG, Y., KIM, J., JEONG, N. J., BAE, K. & DEL POBIL, A. P. 2019. Determinants of customer satisfaction with airline services: An analysis of customer feedback big data. Journal of Retailing and Consumer Services, 51, 186-190.\n",
        "\n",
        "\n",
        "\n"
      ]
    }
  ]
}